{
 "cells": [
  {
   "cell_type": "code",
   "execution_count": 3,
   "id": "17de91bb-6980-4095-86b6-53eed941c3a9",
   "metadata": {},
   "outputs": [],
   "source": [
    "import torch\n",
    "from PIL import Image\n",
    "import torchvision.transforms as T\n",
    "import hubconf\n",
    "\n",
    "class xyz_model(torch.nn.Module):\n",
    "    def __init__(self, model):\n",
    "        super().__init__()\n",
    "        self.model = model \n",
    "\n",
    "    def forward(self, tensor):\n",
    "        ff = self.model(tensor)\n",
    "        return ff\n",
    "    \n",
    "\n",
    "model = hubconf.dinov2_vits14()\n",
    "mm = xyz_model(model).to('cpu')\n",
    "\n",
    "\n",
    "# Set the model to evaluation mode\n",
    "mm.eval()\n",
    "\n",
    "# Generate some input data\n",
    "input_data = torch.randn(1, 3, 224, 224).to('cpu')\n",
    "\n",
    "# Pass the input data through the model\n",
    "output = mm(input_data)\n",
    "\n",
    "# Print the output\n",
    "# print(output)\n"
   ]
  },
  {
   "cell_type": "code",
   "execution_count": 4,
   "id": "6fdbdf08-25aa-4936-b911-c539506d13d4",
   "metadata": {},
   "outputs": [
    {
     "name": "stderr",
     "output_type": "stream",
     "text": [
      "/media/dnth/Active-Projects/dinov2/dinov2/dinov2/layers/patch_embed.py:73: TracerWarning: Converting a tensor to a Python boolean might cause the trace to be incorrect. We can't record the data flow of Python values, so this value will be treated as a constant in the future. This means that the trace might not generalize to other inputs!\n",
      "  assert H % patch_H == 0, f\"Input image height {H} is not a multiple of patch height {patch_H}\"\n",
      "/media/dnth/Active-Projects/dinov2/dinov2/dinov2/layers/patch_embed.py:74: TracerWarning: Converting a tensor to a Python boolean might cause the trace to be incorrect. We can't record the data flow of Python values, so this value will be treated as a constant in the future. This means that the trace might not generalize to other inputs!\n",
      "  assert W % patch_W == 0, f\"Input image width {W} is not a multiple of patch width: {patch_W}\"\n",
      "/media/dnth/Active-Projects/dinov2/dinov2/dinov2/models/vision_transformer.py:172: TracerWarning: Converting a tensor to a Python boolean might cause the trace to be incorrect. We can't record the data flow of Python values, so this value will be treated as a constant in the future. This means that the trace might not generalize to other inputs!\n",
      "  if npatch == N and w == h:\n",
      "/media/dnth/Active-Projects/dinov2/dinov2/dinov2/models/vision_transformer.py:186: TracerWarning: Converting a tensor to a Python float might cause the trace to be incorrect. We can't record the data flow of Python values, so this value will be treated as a constant in the future. This means that the trace might not generalize to other inputs!\n",
      "  int(math.sqrt(N)),\n",
      "/media/dnth/Active-Projects/dinov2/dinov2/dinov2/models/vision_transformer.py:187: TracerWarning: Converting a tensor to a Python float might cause the trace to be incorrect. We can't record the data flow of Python values, so this value will be treated as a constant in the future. This means that the trace might not generalize to other inputs!\n",
      "  int(math.sqrt(N)),\n",
      "/media/dnth/Active-Projects/dinov2/dinov2/dinov2/models/vision_transformer.py:190: TracerWarning: Converting a tensor to a Python float might cause the trace to be incorrect. We can't record the data flow of Python values, so this value will be treated as a constant in the future. This means that the trace might not generalize to other inputs!\n",
      "  bb = (w0 / math.sqrt(N), h0 / math.sqrt(N))\n",
      "/media/dnth/Active-Projects/dinov2/dinov2/dinov2/models/vision_transformer.py:193: TracerWarning: Converting a tensor to a Python number might cause the trace to be incorrect. We can't record the data flow of Python values, so this value will be treated as a constant in the future. This means that the trace might not generalize to other inputs!\n",
      "  cc = (bb[0].item(), bb[1].item()) # **** 1.make cc from tuple(tensor[float], tensor(float)) to tuple(float, float)\n",
      "/media/dnth/Active-Projects/dinov2/dinov2/dinov2/models/vision_transformer.py:200: TracerWarning: Converting a tensor to a Python integer might cause the trace to be incorrect. We can't record the data flow of Python values, so this value will be treated as a constant in the future. This means that the trace might not generalize to other inputs!\n",
      "  assert int(w0) == patch_pos_embed.shape[-2] and int(h0) == patch_pos_embed.shape[-1]\n",
      "/media/dnth/Active-Projects/dinov2/dinov2/dinov2/models/vision_transformer.py:200: TracerWarning: Converting a tensor to a Python boolean might cause the trace to be incorrect. We can't record the data flow of Python values, so this value will be treated as a constant in the future. This means that the trace might not generalize to other inputs!\n",
      "  assert int(w0) == patch_pos_embed.shape[-2] and int(h0) == patch_pos_embed.shape[-1]\n"
     ]
    },
    {
     "name": "stdout",
     "output_type": "stream",
     "text": [
      "================ Diagnostic Run torch.onnx.export version 2.0.0 ================\n",
      "verbose: False, log level: Level.ERROR\n",
      "======================= 0 NONE 0 NOTE 0 WARNING 0 ERROR ========================\n",
      "\n"
     ]
    }
   ],
   "source": [
    "torch.onnx.export(mm, input_data, 'model.onnx', input_names = ['input'])"
   ]
  },
  {
   "cell_type": "code",
   "execution_count": null,
   "id": "ef87fe7d-8512-44d6-9316-beb6007498e0",
   "metadata": {},
   "outputs": [],
   "source": []
  }
 ],
 "metadata": {
  "kernelspec": {
   "display_name": "Python 3 (ipykernel)",
   "language": "python",
   "name": "python3"
  },
  "language_info": {
   "codemirror_mode": {
    "name": "ipython",
    "version": 3
   },
   "file_extension": ".py",
   "mimetype": "text/x-python",
   "name": "python",
   "nbconvert_exporter": "python",
   "pygments_lexer": "ipython3",
   "version": "3.9.16"
  }
 },
 "nbformat": 4,
 "nbformat_minor": 5
}
